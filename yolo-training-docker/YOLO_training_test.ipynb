{
 "cells": [
  {
   "cell_type": "markdown",
   "metadata": {},
   "source": [
    "To train on new dataset these are the steps:\n",
    "1. Adjust the NN architecture in cfg file \n",
    "2. Put images and annotations in separate folders\n",
    "3. Set the options accordingly\n",
    "4. Run training\n",
    "5. Output (weights etc.) will be saved in the checkpoint ckpt file (you can optionally save a .pb file) NOTE: When you train, darkflow will output ckpt files, loading from them is the recommended way, although you can load from .pb too. In short, yes, no more .weights is needed, since we have ckpt and bp now.\n",
    "6. Instantiate the model from the latest checkpoint\n",
    "7. Run object detection as usual"
   ]
  },
  {
   "cell_type": "code",
   "execution_count": null,
   "metadata": {},
   "outputs": [],
   "source": [
    "%matplotlib inline\n",
    "import matplotlib.pyplot as plt\n",
    "import numpy as np\n",
    "\n",
    "from darkflow.net.build import TFNet\n",
    "import cv2"
   ]
  },
  {
   "cell_type": "code",
   "execution_count": null,
   "metadata": {},
   "outputs": [],
   "source": [
    "# yolov2-new was created by modifying yolov2-new.cfg as per instructions in darkflow repo \n",
    "\n",
    "options = {\"model\": \"cfg/yolov2-new.cfg\", \n",
    "           \"load\": \"bin/yolov2.weights\",\n",
    "           \"epoch\": 5,\n",
    "           #\"gpu\": 1.0,\n",
    "           \"train\": True,\n",
    "           \"annotation\": \"./test/training/annotations/\",\n",
    "           \"dataset\": \"./test/training/images/\",\n",
    "           \"labels\": \"labels_test.txt\"}"
   ]
  },
  {
   "cell_type": "code",
   "execution_count": null,
   "metadata": {},
   "outputs": [],
   "source": [
    "tfnet = TFNet(options)"
   ]
  },
  {
   "cell_type": "code",
   "execution_count": null,
   "metadata": {},
   "outputs": [],
   "source": [
    "tfnet.train()  # creates automatically a ckpt folder containing the checkpoint"
   ]
  },
  {
   "cell_type": "code",
   "execution_count": null,
   "metadata": {},
   "outputs": [],
   "source": [
    "tfnet.savepb()  # creates the built_graph folder "
   ]
  }
 ],
 "metadata": {
  "kernelspec": {
   "display_name": "Python 3",
   "language": "python",
   "name": "python3"
  },
  "language_info": {
   "codemirror_mode": {
    "name": "ipython",
    "version": 3
   },
   "file_extension": ".py",
   "mimetype": "text/x-python",
   "name": "python",
   "nbconvert_exporter": "python",
   "pygments_lexer": "ipython3",
   "version": "3.6.5"
  }
 },
 "nbformat": 4,
 "nbformat_minor": 2
}
