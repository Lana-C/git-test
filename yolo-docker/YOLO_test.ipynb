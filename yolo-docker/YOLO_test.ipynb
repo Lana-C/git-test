{
 "cells": [
  {
   "cell_type": "markdown",
   "metadata": {},
   "source": [
    "This is a sample notebook for running the YOLO object detection algorithm on images based on Darkflow implementation (https://github.com/thtrieu/darkflow). "
   ]
  },
  {
   "cell_type": "code",
   "execution_count": null,
   "metadata": {},
   "outputs": [],
   "source": [
    "# Import needed libraries\n",
    "import cv2\n",
    "from darkflow.net.build import TFNet\n",
    "import matplotlib.pyplot as plt"
   ]
  },
  {
   "cell_type": "code",
   "execution_count": null,
   "metadata": {
    "scrolled": true
   },
   "outputs": [],
   "source": [
    "# Set the model options\n",
    "options = { \n",
    "    \"model\": \"cfg/yolo.cfg\",\n",
    "    \"load\": \"bin/yolov2.weights\",\n",
    "    \"threshold\": 0.3\n",
    "}\n",
    "\n",
    "# Instantiate the model\n",
    "tfnet=TFNet(options)"
   ]
  },
  {
   "cell_type": "code",
   "execution_count": null,
   "metadata": {},
   "outputs": [],
   "source": [
    "# Read in an image (specify the path manually either from sample_img or data folders) and run labeling \n",
    "img = cv2.imread(\"sample_img/sample_person.jpg\", cv2.IMREAD_COLOR)\n",
    "img = cv2.cvtColor(img, cv2.COLOR_BGR2RGB)\n",
    "print(\"Image shape: \", img.shape)\n",
    "result = tfnet.return_predict(img)\n",
    "result"
   ]
  },
  {
   "cell_type": "code",
   "execution_count": null,
   "metadata": {},
   "outputs": [],
   "source": [
    "# Create bounding boxes around recognized objects and save the output image into result folder (specify the name of output image)\n",
    "for r in result:\n",
    "    tl = (r[\"topleft\"][\"x\"],r[\"topleft\"][\"y\"])\n",
    "    br = (r[\"bottomright\"][\"x\"],r[\"bottomright\"][\"y\"])\n",
    "    label = r[\"label\"]\n",
    "    conf = round(r[\"confidence\"],2)\n",
    "    \n",
    "    im = cv2.rectangle(img, tl, br, (0, 255, 0), 3)\n",
    "    im = cv2.putText(img, label+str(conf), tl, cv2.FONT_HERSHEY_COMPLEX, 0.8, (0,0,0), 2)\n",
    "\n",
    "plt.imsave('results/result.jpg', im)\n",
    "plt.imshow(im)\n",
    "plt.show()"
   ]
  }
 ],
 "metadata": {
  "kernelspec": {
   "display_name": "Python 3",
   "language": "python",
   "name": "python3"
  },
  "language_info": {
   "codemirror_mode": {
    "name": "ipython",
    "version": 3
   },
   "file_extension": ".py",
   "mimetype": "text/x-python",
   "name": "python",
   "nbconvert_exporter": "python",
   "pygments_lexer": "ipython3",
   "version": "3.6.5"
  }
 },
 "nbformat": 4,
 "nbformat_minor": 2
}
